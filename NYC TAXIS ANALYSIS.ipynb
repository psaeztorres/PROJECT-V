{
 "cells": [
  {
   "cell_type": "markdown",
   "id": "536b7c46",
   "metadata": {},
   "source": [
    "## PROJECT V : TAXIS IN NYC ANALYSIS \n",
    "\n",
    "In this project data obtaind for NYC taxis in february 2019 is going to be analyzed. A weather databased is going to be related in ordert to see the effect of weather conditions on several parameters such as number of trips, duration or average distance."
   ]
  },
  {
   "cell_type": "code",
   "execution_count": 1,
   "id": "3f65834d",
   "metadata": {},
   "outputs": [],
   "source": [
    "import pandas as pd\n",
    "from src import cleaning as cl"
   ]
  },
  {
   "cell_type": "code",
   "execution_count": 2,
   "id": "cd0ad55f",
   "metadata": {},
   "outputs": [],
   "source": [
    "pd.set_option('display.max_columns', None)"
   ]
  },
  {
   "cell_type": "code",
   "execution_count": 3,
   "id": "0980ace9",
   "metadata": {},
   "outputs": [],
   "source": [
    "taxi = pd.read_csv(\"starting data/taxi.csv\")\n",
    "weather = pd.read_csv(\"starting data/nyc_temperature.csv\")"
   ]
  },
  {
   "cell_type": "markdown",
   "id": "8dc00eb6",
   "metadata": {},
   "source": [
    "#### STEP 1 : basic information of the datasets"
   ]
  },
  {
   "cell_type": "code",
   "execution_count": 4,
   "id": "5b96f003",
   "metadata": {},
   "outputs": [
    {
     "data": {
      "text/html": [
       "<div>\n",
       "<style scoped>\n",
       "    .dataframe tbody tr th:only-of-type {\n",
       "        vertical-align: middle;\n",
       "    }\n",
       "\n",
       "    .dataframe tbody tr th {\n",
       "        vertical-align: top;\n",
       "    }\n",
       "\n",
       "    .dataframe thead th {\n",
       "        text-align: right;\n",
       "    }\n",
       "</style>\n",
       "<table border=\"1\" class=\"dataframe\">\n",
       "  <thead>\n",
       "    <tr style=\"text-align: right;\">\n",
       "      <th></th>\n",
       "      <th>Unnamed: 0</th>\n",
       "      <th>pickup</th>\n",
       "      <th>dropoff</th>\n",
       "      <th>passengers</th>\n",
       "      <th>distance</th>\n",
       "      <th>fare</th>\n",
       "      <th>tip</th>\n",
       "      <th>tolls</th>\n",
       "      <th>total</th>\n",
       "      <th>color</th>\n",
       "      <th>payment</th>\n",
       "      <th>pickup_zone</th>\n",
       "      <th>dropoff_zone</th>\n",
       "      <th>pickup_borough</th>\n",
       "      <th>dropoff_borough</th>\n",
       "    </tr>\n",
       "  </thead>\n",
       "  <tbody>\n",
       "    <tr>\n",
       "      <th>748</th>\n",
       "      <td>748</td>\n",
       "      <td>2019-03-03 22:59:34</td>\n",
       "      <td>2019-03-03 23:00:39</td>\n",
       "      <td>2</td>\n",
       "      <td>0.44</td>\n",
       "      <td>3.5</td>\n",
       "      <td>1.46</td>\n",
       "      <td>0.0</td>\n",
       "      <td>8.76</td>\n",
       "      <td>yellow</td>\n",
       "      <td>credit card</td>\n",
       "      <td>Midtown South</td>\n",
       "      <td>Union Sq</td>\n",
       "      <td>Manhattan</td>\n",
       "      <td>Manhattan</td>\n",
       "    </tr>\n",
       "  </tbody>\n",
       "</table>\n",
       "</div>"
      ],
      "text/plain": [
       "     Unnamed: 0               pickup              dropoff  passengers  \\\n",
       "748         748  2019-03-03 22:59:34  2019-03-03 23:00:39           2   \n",
       "\n",
       "     distance  fare   tip  tolls  total   color      payment    pickup_zone  \\\n",
       "748      0.44   3.5  1.46    0.0   8.76  yellow  credit card  Midtown South   \n",
       "\n",
       "    dropoff_zone pickup_borough dropoff_borough  \n",
       "748     Union Sq      Manhattan       Manhattan  "
      ]
     },
     "execution_count": 4,
     "metadata": {},
     "output_type": "execute_result"
    }
   ],
   "source": [
    "taxi.sample()"
   ]
  },
  {
   "cell_type": "code",
   "execution_count": 5,
   "id": "96878258",
   "metadata": {},
   "outputs": [
    {
     "data": {
      "text/html": [
       "<div>\n",
       "<style scoped>\n",
       "    .dataframe tbody tr th:only-of-type {\n",
       "        vertical-align: middle;\n",
       "    }\n",
       "\n",
       "    .dataframe tbody tr th {\n",
       "        vertical-align: top;\n",
       "    }\n",
       "\n",
       "    .dataframe thead th {\n",
       "        text-align: right;\n",
       "    }\n",
       "</style>\n",
       "<table border=\"1\" class=\"dataframe\">\n",
       "  <thead>\n",
       "    <tr style=\"text-align: right;\">\n",
       "      <th></th>\n",
       "      <th>date</th>\n",
       "      <th>tmax</th>\n",
       "      <th>tmin</th>\n",
       "      <th>tavg</th>\n",
       "      <th>departure</th>\n",
       "      <th>HDD</th>\n",
       "      <th>CDD</th>\n",
       "      <th>precipitation</th>\n",
       "      <th>new_snow</th>\n",
       "      <th>snow_depth</th>\n",
       "    </tr>\n",
       "  </thead>\n",
       "  <tbody>\n",
       "    <tr>\n",
       "      <th>248</th>\n",
       "      <td>6/9/19</td>\n",
       "      <td>69</td>\n",
       "      <td>60</td>\n",
       "      <td>64.5</td>\n",
       "      <td>-9.5</td>\n",
       "      <td>0</td>\n",
       "      <td>0</td>\n",
       "      <td>0.03</td>\n",
       "      <td>0</td>\n",
       "      <td>0</td>\n",
       "    </tr>\n",
       "  </tbody>\n",
       "</table>\n",
       "</div>"
      ],
      "text/plain": [
       "       date  tmax  tmin  tavg  departure  HDD  CDD precipitation new_snow  \\\n",
       "248  6/9/19    69    60  64.5       -9.5    0    0          0.03        0   \n",
       "\n",
       "    snow_depth  \n",
       "248          0  "
      ]
     },
     "execution_count": 5,
     "metadata": {},
     "output_type": "execute_result"
    }
   ],
   "source": [
    "weather.sample()"
   ]
  },
  {
   "cell_type": "code",
   "execution_count": 6,
   "id": "a2110517",
   "metadata": {
    "scrolled": true
   },
   "outputs": [
    {
     "name": "stdout",
     "output_type": "stream",
     "text": [
      "<class 'pandas.core.frame.DataFrame'>\n",
      "RangeIndex: 6433 entries, 0 to 6432\n",
      "Data columns (total 15 columns):\n",
      " #   Column           Non-Null Count  Dtype  \n",
      "---  ------           --------------  -----  \n",
      " 0   Unnamed: 0       6433 non-null   int64  \n",
      " 1   pickup           6433 non-null   object \n",
      " 2   dropoff          6433 non-null   object \n",
      " 3   passengers       6433 non-null   int64  \n",
      " 4   distance         6433 non-null   float64\n",
      " 5   fare             6433 non-null   float64\n",
      " 6   tip              6433 non-null   float64\n",
      " 7   tolls            6433 non-null   float64\n",
      " 8   total            6433 non-null   float64\n",
      " 9   color            6433 non-null   object \n",
      " 10  payment          6389 non-null   object \n",
      " 11  pickup_zone      6407 non-null   object \n",
      " 12  dropoff_zone     6388 non-null   object \n",
      " 13  pickup_borough   6407 non-null   object \n",
      " 14  dropoff_borough  6388 non-null   object \n",
      "dtypes: float64(5), int64(2), object(8)\n",
      "memory usage: 754.0+ KB\n"
     ]
    }
   ],
   "source": [
    "taxi.info()"
   ]
  },
  {
   "cell_type": "code",
   "execution_count": 7,
   "id": "f137e2e3",
   "metadata": {
    "scrolled": true
   },
   "outputs": [
    {
     "name": "stdout",
     "output_type": "stream",
     "text": [
      "<class 'pandas.core.frame.DataFrame'>\n",
      "RangeIndex: 365 entries, 0 to 364\n",
      "Data columns (total 10 columns):\n",
      " #   Column         Non-Null Count  Dtype  \n",
      "---  ------         --------------  -----  \n",
      " 0   date           365 non-null    object \n",
      " 1   tmax           365 non-null    int64  \n",
      " 2   tmin           365 non-null    int64  \n",
      " 3   tavg           365 non-null    float64\n",
      " 4   departure      365 non-null    float64\n",
      " 5   HDD            365 non-null    int64  \n",
      " 6   CDD            365 non-null    int64  \n",
      " 7   precipitation  365 non-null    object \n",
      " 8   new_snow       365 non-null    object \n",
      " 9   snow_depth     365 non-null    object \n",
      "dtypes: float64(2), int64(4), object(4)\n",
      "memory usage: 28.6+ KB\n"
     ]
    }
   ],
   "source": [
    "weather.info()"
   ]
  },
  {
   "cell_type": "code",
   "execution_count": 8,
   "id": "72457d62",
   "metadata": {
    "scrolled": true
   },
   "outputs": [
    {
     "data": {
      "text/html": [
       "<div>\n",
       "<style scoped>\n",
       "    .dataframe tbody tr th:only-of-type {\n",
       "        vertical-align: middle;\n",
       "    }\n",
       "\n",
       "    .dataframe tbody tr th {\n",
       "        vertical-align: top;\n",
       "    }\n",
       "\n",
       "    .dataframe thead th {\n",
       "        text-align: right;\n",
       "    }\n",
       "</style>\n",
       "<table border=\"1\" class=\"dataframe\">\n",
       "  <thead>\n",
       "    <tr style=\"text-align: right;\">\n",
       "      <th></th>\n",
       "      <th>Unnamed: 0</th>\n",
       "      <th>passengers</th>\n",
       "      <th>distance</th>\n",
       "      <th>fare</th>\n",
       "      <th>tip</th>\n",
       "      <th>tolls</th>\n",
       "      <th>total</th>\n",
       "    </tr>\n",
       "  </thead>\n",
       "  <tbody>\n",
       "    <tr>\n",
       "      <th>count</th>\n",
       "      <td>6433.000000</td>\n",
       "      <td>6433.000000</td>\n",
       "      <td>6433.000000</td>\n",
       "      <td>6433.000000</td>\n",
       "      <td>6433.00000</td>\n",
       "      <td>6433.000000</td>\n",
       "      <td>6433.000000</td>\n",
       "    </tr>\n",
       "    <tr>\n",
       "      <th>mean</th>\n",
       "      <td>3216.000000</td>\n",
       "      <td>1.539251</td>\n",
       "      <td>3.024617</td>\n",
       "      <td>13.091073</td>\n",
       "      <td>1.97922</td>\n",
       "      <td>0.325273</td>\n",
       "      <td>18.517794</td>\n",
       "    </tr>\n",
       "    <tr>\n",
       "      <th>std</th>\n",
       "      <td>1857.191473</td>\n",
       "      <td>1.203768</td>\n",
       "      <td>3.827867</td>\n",
       "      <td>11.551804</td>\n",
       "      <td>2.44856</td>\n",
       "      <td>1.415267</td>\n",
       "      <td>13.815570</td>\n",
       "    </tr>\n",
       "    <tr>\n",
       "      <th>min</th>\n",
       "      <td>0.000000</td>\n",
       "      <td>0.000000</td>\n",
       "      <td>0.000000</td>\n",
       "      <td>1.000000</td>\n",
       "      <td>0.00000</td>\n",
       "      <td>0.000000</td>\n",
       "      <td>1.300000</td>\n",
       "    </tr>\n",
       "    <tr>\n",
       "      <th>25%</th>\n",
       "      <td>1608.000000</td>\n",
       "      <td>1.000000</td>\n",
       "      <td>0.980000</td>\n",
       "      <td>6.500000</td>\n",
       "      <td>0.00000</td>\n",
       "      <td>0.000000</td>\n",
       "      <td>10.800000</td>\n",
       "    </tr>\n",
       "    <tr>\n",
       "      <th>50%</th>\n",
       "      <td>3216.000000</td>\n",
       "      <td>1.000000</td>\n",
       "      <td>1.640000</td>\n",
       "      <td>9.500000</td>\n",
       "      <td>1.70000</td>\n",
       "      <td>0.000000</td>\n",
       "      <td>14.160000</td>\n",
       "    </tr>\n",
       "    <tr>\n",
       "      <th>75%</th>\n",
       "      <td>4824.000000</td>\n",
       "      <td>2.000000</td>\n",
       "      <td>3.210000</td>\n",
       "      <td>15.000000</td>\n",
       "      <td>2.80000</td>\n",
       "      <td>0.000000</td>\n",
       "      <td>20.300000</td>\n",
       "    </tr>\n",
       "    <tr>\n",
       "      <th>max</th>\n",
       "      <td>6432.000000</td>\n",
       "      <td>6.000000</td>\n",
       "      <td>36.700000</td>\n",
       "      <td>150.000000</td>\n",
       "      <td>33.20000</td>\n",
       "      <td>24.020000</td>\n",
       "      <td>174.820000</td>\n",
       "    </tr>\n",
       "  </tbody>\n",
       "</table>\n",
       "</div>"
      ],
      "text/plain": [
       "        Unnamed: 0   passengers     distance         fare         tip  \\\n",
       "count  6433.000000  6433.000000  6433.000000  6433.000000  6433.00000   \n",
       "mean   3216.000000     1.539251     3.024617    13.091073     1.97922   \n",
       "std    1857.191473     1.203768     3.827867    11.551804     2.44856   \n",
       "min       0.000000     0.000000     0.000000     1.000000     0.00000   \n",
       "25%    1608.000000     1.000000     0.980000     6.500000     0.00000   \n",
       "50%    3216.000000     1.000000     1.640000     9.500000     1.70000   \n",
       "75%    4824.000000     2.000000     3.210000    15.000000     2.80000   \n",
       "max    6432.000000     6.000000    36.700000   150.000000    33.20000   \n",
       "\n",
       "             tolls        total  \n",
       "count  6433.000000  6433.000000  \n",
       "mean      0.325273    18.517794  \n",
       "std       1.415267    13.815570  \n",
       "min       0.000000     1.300000  \n",
       "25%       0.000000    10.800000  \n",
       "50%       0.000000    14.160000  \n",
       "75%       0.000000    20.300000  \n",
       "max      24.020000   174.820000  "
      ]
     },
     "execution_count": 8,
     "metadata": {},
     "output_type": "execute_result"
    }
   ],
   "source": [
    "taxi.describe()"
   ]
  },
  {
   "cell_type": "code",
   "execution_count": 9,
   "id": "2e1a3e17",
   "metadata": {
    "scrolled": false
   },
   "outputs": [
    {
     "data": {
      "text/html": [
       "<div>\n",
       "<style scoped>\n",
       "    .dataframe tbody tr th:only-of-type {\n",
       "        vertical-align: middle;\n",
       "    }\n",
       "\n",
       "    .dataframe tbody tr th {\n",
       "        vertical-align: top;\n",
       "    }\n",
       "\n",
       "    .dataframe thead th {\n",
       "        text-align: right;\n",
       "    }\n",
       "</style>\n",
       "<table border=\"1\" class=\"dataframe\">\n",
       "  <thead>\n",
       "    <tr style=\"text-align: right;\">\n",
       "      <th></th>\n",
       "      <th>tmax</th>\n",
       "      <th>tmin</th>\n",
       "      <th>tavg</th>\n",
       "      <th>departure</th>\n",
       "      <th>HDD</th>\n",
       "      <th>CDD</th>\n",
       "    </tr>\n",
       "  </thead>\n",
       "  <tbody>\n",
       "    <tr>\n",
       "      <th>count</th>\n",
       "      <td>365.000000</td>\n",
       "      <td>365.000000</td>\n",
       "      <td>365.000000</td>\n",
       "      <td>365.000000</td>\n",
       "      <td>365.000000</td>\n",
       "      <td>365.000000</td>\n",
       "    </tr>\n",
       "    <tr>\n",
       "      <th>mean</th>\n",
       "      <td>63.169863</td>\n",
       "      <td>49.512329</td>\n",
       "      <td>56.341096</td>\n",
       "      <td>-0.527945</td>\n",
       "      <td>12.463014</td>\n",
       "      <td>4.065753</td>\n",
       "    </tr>\n",
       "    <tr>\n",
       "      <th>std</th>\n",
       "      <td>18.806232</td>\n",
       "      <td>17.154853</td>\n",
       "      <td>17.821404</td>\n",
       "      <td>6.421460</td>\n",
       "      <td>13.264920</td>\n",
       "      <td>6.374835</td>\n",
       "    </tr>\n",
       "    <tr>\n",
       "      <th>min</th>\n",
       "      <td>16.000000</td>\n",
       "      <td>3.000000</td>\n",
       "      <td>10.000000</td>\n",
       "      <td>-24.100000</td>\n",
       "      <td>0.000000</td>\n",
       "      <td>0.000000</td>\n",
       "    </tr>\n",
       "    <tr>\n",
       "      <th>25%</th>\n",
       "      <td>47.000000</td>\n",
       "      <td>35.000000</td>\n",
       "      <td>41.000000</td>\n",
       "      <td>-4.700000</td>\n",
       "      <td>0.000000</td>\n",
       "      <td>0.000000</td>\n",
       "    </tr>\n",
       "    <tr>\n",
       "      <th>50%</th>\n",
       "      <td>63.000000</td>\n",
       "      <td>49.000000</td>\n",
       "      <td>56.000000</td>\n",
       "      <td>0.100000</td>\n",
       "      <td>9.000000</td>\n",
       "      <td>0.000000</td>\n",
       "    </tr>\n",
       "    <tr>\n",
       "      <th>75%</th>\n",
       "      <td>79.000000</td>\n",
       "      <td>65.000000</td>\n",
       "      <td>72.000000</td>\n",
       "      <td>3.700000</td>\n",
       "      <td>24.000000</td>\n",
       "      <td>7.000000</td>\n",
       "    </tr>\n",
       "    <tr>\n",
       "      <th>max</th>\n",
       "      <td>100.000000</td>\n",
       "      <td>83.000000</td>\n",
       "      <td>91.500000</td>\n",
       "      <td>17.400000</td>\n",
       "      <td>55.000000</td>\n",
       "      <td>27.000000</td>\n",
       "    </tr>\n",
       "  </tbody>\n",
       "</table>\n",
       "</div>"
      ],
      "text/plain": [
       "             tmax        tmin        tavg   departure         HDD         CDD\n",
       "count  365.000000  365.000000  365.000000  365.000000  365.000000  365.000000\n",
       "mean    63.169863   49.512329   56.341096   -0.527945   12.463014    4.065753\n",
       "std     18.806232   17.154853   17.821404    6.421460   13.264920    6.374835\n",
       "min     16.000000    3.000000   10.000000  -24.100000    0.000000    0.000000\n",
       "25%     47.000000   35.000000   41.000000   -4.700000    0.000000    0.000000\n",
       "50%     63.000000   49.000000   56.000000    0.100000    9.000000    0.000000\n",
       "75%     79.000000   65.000000   72.000000    3.700000   24.000000    7.000000\n",
       "max    100.000000   83.000000   91.500000   17.400000   55.000000   27.000000"
      ]
     },
     "execution_count": 9,
     "metadata": {},
     "output_type": "execute_result"
    }
   ],
   "source": [
    "weather.describe()"
   ]
  },
  {
   "cell_type": "code",
   "execution_count": 10,
   "id": "0fdc3247",
   "metadata": {
    "scrolled": true
   },
   "outputs": [
    {
     "data": {
      "text/plain": [
       "Unnamed: 0          0\n",
       "pickup              0\n",
       "dropoff             0\n",
       "passengers          0\n",
       "distance            0\n",
       "fare                0\n",
       "tip                 0\n",
       "tolls               0\n",
       "total               0\n",
       "color               0\n",
       "payment            44\n",
       "pickup_zone        26\n",
       "dropoff_zone       45\n",
       "pickup_borough     26\n",
       "dropoff_borough    45\n",
       "dtype: int64"
      ]
     },
     "execution_count": 10,
     "metadata": {},
     "output_type": "execute_result"
    }
   ],
   "source": [
    "taxi.isna().sum() "
   ]
  },
  {
   "cell_type": "code",
   "execution_count": 11,
   "id": "c993fcf9",
   "metadata": {
    "scrolled": false
   },
   "outputs": [
    {
     "data": {
      "text/plain": [
       "date             0\n",
       "tmax             0\n",
       "tmin             0\n",
       "tavg             0\n",
       "departure        0\n",
       "HDD              0\n",
       "CDD              0\n",
       "precipitation    0\n",
       "new_snow         0\n",
       "snow_depth       0\n",
       "dtype: int64"
      ]
     },
     "execution_count": 11,
     "metadata": {},
     "output_type": "execute_result"
    }
   ],
   "source": [
    "weather.isna().sum() "
   ]
  },
  {
   "cell_type": "markdown",
   "id": "4c34132f",
   "metadata": {},
   "source": [
    "#### STEP 2 : cleaning and transforming datasets"
   ]
  },
  {
   "cell_type": "code",
   "execution_count": 12,
   "id": "31becb10",
   "metadata": {},
   "outputs": [],
   "source": [
    "taxi = cl.get_date_week_duration(taxi,'pickup', 'dropoff')"
   ]
  },
  {
   "cell_type": "code",
   "execution_count": 13,
   "id": "4e5eebef",
   "metadata": {},
   "outputs": [],
   "source": [
    "weather = cl.df_to_celsius_and_num_values (weather)"
   ]
  },
  {
   "cell_type": "code",
   "execution_count": 14,
   "id": "d743ced7",
   "metadata": {},
   "outputs": [
    {
     "data": {
      "text/html": [
       "<div>\n",
       "<style scoped>\n",
       "    .dataframe tbody tr th:only-of-type {\n",
       "        vertical-align: middle;\n",
       "    }\n",
       "\n",
       "    .dataframe tbody tr th {\n",
       "        vertical-align: top;\n",
       "    }\n",
       "\n",
       "    .dataframe thead th {\n",
       "        text-align: right;\n",
       "    }\n",
       "</style>\n",
       "<table border=\"1\" class=\"dataframe\">\n",
       "  <thead>\n",
       "    <tr style=\"text-align: right;\">\n",
       "      <th></th>\n",
       "      <th>Unnamed: 0</th>\n",
       "      <th>pickup</th>\n",
       "      <th>dropoff</th>\n",
       "      <th>passengers</th>\n",
       "      <th>distance</th>\n",
       "      <th>fare</th>\n",
       "      <th>tip</th>\n",
       "      <th>tolls</th>\n",
       "      <th>total</th>\n",
       "      <th>color</th>\n",
       "      <th>payment</th>\n",
       "      <th>pickup_zone</th>\n",
       "      <th>dropoff_zone</th>\n",
       "      <th>pickup_borough</th>\n",
       "      <th>dropoff_borough</th>\n",
       "      <th>date</th>\n",
       "      <th>year</th>\n",
       "      <th>month</th>\n",
       "      <th>day</th>\n",
       "      <th>hour</th>\n",
       "      <th>week_day</th>\n",
       "      <th>duration</th>\n",
       "    </tr>\n",
       "  </thead>\n",
       "  <tbody>\n",
       "    <tr>\n",
       "      <th>3717</th>\n",
       "      <td>3717</td>\n",
       "      <td>2019-03-07 08:19:06</td>\n",
       "      <td>2019-03-07 08:22:49</td>\n",
       "      <td>1</td>\n",
       "      <td>0.88</td>\n",
       "      <td>5.0</td>\n",
       "      <td>1.24</td>\n",
       "      <td>0.0</td>\n",
       "      <td>9.54</td>\n",
       "      <td>yellow</td>\n",
       "      <td>credit card</td>\n",
       "      <td>Kips Bay</td>\n",
       "      <td>Sutton Place/Turtle Bay North</td>\n",
       "      <td>Manhattan</td>\n",
       "      <td>Manhattan</td>\n",
       "      <td>2019-03-07</td>\n",
       "      <td>2019</td>\n",
       "      <td>3</td>\n",
       "      <td>7</td>\n",
       "      <td>8</td>\n",
       "      <td>Thursday</td>\n",
       "      <td>3.72</td>\n",
       "    </tr>\n",
       "  </tbody>\n",
       "</table>\n",
       "</div>"
      ],
      "text/plain": [
       "      Unnamed: 0              pickup             dropoff  passengers  \\\n",
       "3717        3717 2019-03-07 08:19:06 2019-03-07 08:22:49           1   \n",
       "\n",
       "      distance  fare   tip  tolls  total   color      payment pickup_zone  \\\n",
       "3717      0.88   5.0  1.24    0.0   9.54  yellow  credit card    Kips Bay   \n",
       "\n",
       "                       dropoff_zone pickup_borough dropoff_borough  \\\n",
       "3717  Sutton Place/Turtle Bay North      Manhattan       Manhattan   \n",
       "\n",
       "            date  year  month  day  hour  week_day  duration  \n",
       "3717  2019-03-07  2019      3    7     8  Thursday      3.72  "
      ]
     },
     "execution_count": 14,
     "metadata": {},
     "output_type": "execute_result"
    }
   ],
   "source": [
    "taxi.sample()"
   ]
  },
  {
   "cell_type": "code",
   "execution_count": 15,
   "id": "97efc180",
   "metadata": {
    "scrolled": true
   },
   "outputs": [
    {
     "data": {
      "text/html": [
       "<div>\n",
       "<style scoped>\n",
       "    .dataframe tbody tr th:only-of-type {\n",
       "        vertical-align: middle;\n",
       "    }\n",
       "\n",
       "    .dataframe tbody tr th {\n",
       "        vertical-align: top;\n",
       "    }\n",
       "\n",
       "    .dataframe thead th {\n",
       "        text-align: right;\n",
       "    }\n",
       "</style>\n",
       "<table border=\"1\" class=\"dataframe\">\n",
       "  <thead>\n",
       "    <tr style=\"text-align: right;\">\n",
       "      <th></th>\n",
       "      <th>date</th>\n",
       "      <th>tmax</th>\n",
       "      <th>tmin</th>\n",
       "      <th>tavg</th>\n",
       "      <th>departure</th>\n",
       "      <th>HDD</th>\n",
       "      <th>CDD</th>\n",
       "      <th>precipitation</th>\n",
       "      <th>new_snow</th>\n",
       "      <th>snow_depth</th>\n",
       "      <th>tmax_c</th>\n",
       "      <th>tmin_c</th>\n",
       "      <th>tavg_c</th>\n",
       "      <th>departure_c</th>\n",
       "    </tr>\n",
       "  </thead>\n",
       "  <tbody>\n",
       "    <tr>\n",
       "      <th>44</th>\n",
       "      <td>2019-02-14</td>\n",
       "      <td>46</td>\n",
       "      <td>33</td>\n",
       "      <td>39.5</td>\n",
       "      <td>3.4</td>\n",
       "      <td>25</td>\n",
       "      <td>0</td>\n",
       "      <td>0</td>\n",
       "      <td>0</td>\n",
       "      <td>0</td>\n",
       "      <td>7.78</td>\n",
       "      <td>0.56</td>\n",
       "      <td>4.17</td>\n",
       "      <td>-15.89</td>\n",
       "    </tr>\n",
       "  </tbody>\n",
       "</table>\n",
       "</div>"
      ],
      "text/plain": [
       "         date  tmax  tmin  tavg  departure  HDD  CDD precipitation new_snow  \\\n",
       "44 2019-02-14    46    33  39.5        3.4   25    0             0        0   \n",
       "\n",
       "   snow_depth  tmax_c  tmin_c  tavg_c  departure_c  \n",
       "44          0    7.78    0.56    4.17       -15.89  "
      ]
     },
     "execution_count": 15,
     "metadata": {},
     "output_type": "execute_result"
    }
   ],
   "source": [
    "weather.sample()"
   ]
  },
  {
   "cell_type": "markdown",
   "id": "009e141e",
   "metadata": {},
   "source": [
    "#### STEP 3 : exporting the new datasets to a folder to be used in SQL and Tableu"
   ]
  },
  {
   "cell_type": "code",
   "execution_count": 16,
   "id": "4e7517f3",
   "metadata": {},
   "outputs": [],
   "source": [
    "taxi.to_csv('data/taxi.csv')"
   ]
  },
  {
   "cell_type": "code",
   "execution_count": 17,
   "id": "d23a186b",
   "metadata": {},
   "outputs": [],
   "source": [
    "weather.to_csv('data/weather.csv')"
   ]
  }
 ],
 "metadata": {
  "kernelspec": {
   "display_name": "ironhack",
   "language": "python",
   "name": "ironhack"
  },
  "language_info": {
   "codemirror_mode": {
    "name": "ipython",
    "version": 3
   },
   "file_extension": ".py",
   "mimetype": "text/x-python",
   "name": "python",
   "nbconvert_exporter": "python",
   "pygments_lexer": "ipython3",
   "version": "3.11.5"
  }
 },
 "nbformat": 4,
 "nbformat_minor": 5
}
